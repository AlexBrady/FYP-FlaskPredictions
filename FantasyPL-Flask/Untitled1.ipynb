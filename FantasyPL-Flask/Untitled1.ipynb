{
 "cells": [
  {
   "cell_type": "code",
   "execution_count": 1,
   "metadata": {},
   "outputs": [
    {
     "ename": "SyntaxError",
     "evalue": "invalid syntax (<ipython-input-1-980611b81bcd>, line 10)",
     "output_type": "error",
     "traceback": [
      "\u001b[0;36m  File \u001b[0;32m\"<ipython-input-1-980611b81bcd>\"\u001b[0;36m, line \u001b[0;32m10\u001b[0m\n\u001b[0;31m    DefenderDF.set_index(['player_id', inplace=True])\u001b[0m\n\u001b[0m                                              ^\u001b[0m\n\u001b[0;31mSyntaxError\u001b[0m\u001b[0;31m:\u001b[0m invalid syntax\n"
     ]
    }
   ],
   "source": [
    "from data_cleaning import clean_defender_data\n",
    "from flask import *\n",
    "import pandas as pd\n",
    "app = Flask(__name__)\n",
    "\n",
    "\n",
    "@app.route(\"/tables\")\n",
    "def show_tables():\n",
    "    DefenderDF = clean_defender_data()\n",
    "    DefenderDF.set_index(['player_id'], inplace=True)\n",
    "    DefenderDF.index.name=None\n",
    "    return render_template('defenderDF.html',tables=[DefenderDF.to_html(classes='defenders')],\n",
    "\n",
    "    titles = ['na', 'Defenders'])\n",
    "\n",
    "if __name__ == \"__main__\":\n",
    "    app.run(debug=True)\n"
   ]
  },
  {
   "cell_type": "code",
   "execution_count": null,
   "metadata": {
    "collapsed": true
   },
   "outputs": [],
   "source": []
  }
 ],
 "metadata": {
  "kernelspec": {
   "display_name": "Python 3",
   "language": "python",
   "name": "python3"
  },
  "language_info": {
   "codemirror_mode": {
    "name": "ipython",
    "version": 3
   },
   "file_extension": ".py",
   "mimetype": "text/x-python",
   "name": "python",
   "nbconvert_exporter": "python",
   "pygments_lexer": "ipython3",
   "version": "3.6.3"
  }
 },
 "nbformat": 4,
 "nbformat_minor": 2
}
